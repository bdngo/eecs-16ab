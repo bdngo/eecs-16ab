{
 "cells": [
  {
   "cell_type": "markdown",
   "metadata": {},
   "source": [
    "# Recommender System\n",
    "# Question A\n",
    "\n",
    "Loading the students' ratings from the csv file TA_data.csv using pandas.read_csv."
   ]
  },
  {
   "cell_type": "code",
   "execution_count": 1,
   "metadata": {},
   "outputs": [
    {
     "data": {
      "text/html": [
       "<div>\n",
       "<style scoped>\n",
       "    .dataframe tbody tr th:only-of-type {\n",
       "        vertical-align: middle;\n",
       "    }\n",
       "\n",
       "    .dataframe tbody tr th {\n",
       "        vertical-align: top;\n",
       "    }\n",
       "\n",
       "    .dataframe thead th {\n",
       "        text-align: right;\n",
       "    }\n",
       "</style>\n",
       "<table border=\"1\" class=\"dataframe\">\n",
       "  <thead>\n",
       "    <tr style=\"text-align: right;\">\n",
       "      <th></th>\n",
       "      <th>Unnamed: 0</th>\n",
       "      <th>Harry Potter</th>\n",
       "      <th>Groundhog Day</th>\n",
       "      <th>Life of Brian</th>\n",
       "      <th>Indiana Jones</th>\n",
       "      <th>Lawrence of Arabia</th>\n",
       "      <th>Jurassic Park</th>\n",
       "      <th>Rushmore</th>\n",
       "      <th>Grease</th>\n",
       "      <th>The Godfather</th>\n",
       "      <th>...</th>\n",
       "      <th>Titanic</th>\n",
       "      <th>The English Patient</th>\n",
       "      <th>Avatar</th>\n",
       "      <th>Star Wars</th>\n",
       "      <th>Gone with the Wind</th>\n",
       "      <th>Casablanca</th>\n",
       "      <th>Jaws</th>\n",
       "      <th>Top Gun</th>\n",
       "      <th>Toy Story</th>\n",
       "      <th>Lord of the Rings</th>\n",
       "    </tr>\n",
       "  </thead>\n",
       "  <tbody>\n",
       "    <tr>\n",
       "      <td>0</td>\n",
       "      <td>Maruf</td>\n",
       "      <td>3</td>\n",
       "      <td>2</td>\n",
       "      <td>3</td>\n",
       "      <td>3</td>\n",
       "      <td>3</td>\n",
       "      <td>3</td>\n",
       "      <td>3</td>\n",
       "      <td>3</td>\n",
       "      <td>4</td>\n",
       "      <td>...</td>\n",
       "      <td>2</td>\n",
       "      <td>2</td>\n",
       "      <td>3</td>\n",
       "      <td>4</td>\n",
       "      <td>2</td>\n",
       "      <td>2</td>\n",
       "      <td>3</td>\n",
       "      <td>3</td>\n",
       "      <td>4</td>\n",
       "      <td>4</td>\n",
       "    </tr>\n",
       "    <tr>\n",
       "      <td>1</td>\n",
       "      <td>Mauricio</td>\n",
       "      <td>2</td>\n",
       "      <td>3</td>\n",
       "      <td>4</td>\n",
       "      <td>3</td>\n",
       "      <td>2</td>\n",
       "      <td>3</td>\n",
       "      <td>4</td>\n",
       "      <td>3</td>\n",
       "      <td>3</td>\n",
       "      <td>...</td>\n",
       "      <td>1</td>\n",
       "      <td>1</td>\n",
       "      <td>3</td>\n",
       "      <td>3</td>\n",
       "      <td>2</td>\n",
       "      <td>1</td>\n",
       "      <td>3</td>\n",
       "      <td>3</td>\n",
       "      <td>4</td>\n",
       "      <td>3</td>\n",
       "    </tr>\n",
       "    <tr>\n",
       "      <td>2</td>\n",
       "      <td>Ricky</td>\n",
       "      <td>2</td>\n",
       "      <td>5</td>\n",
       "      <td>4</td>\n",
       "      <td>2</td>\n",
       "      <td>3</td>\n",
       "      <td>2</td>\n",
       "      <td>4</td>\n",
       "      <td>4</td>\n",
       "      <td>1</td>\n",
       "      <td>...</td>\n",
       "      <td>3</td>\n",
       "      <td>3</td>\n",
       "      <td>2</td>\n",
       "      <td>2</td>\n",
       "      <td>4</td>\n",
       "      <td>3</td>\n",
       "      <td>2</td>\n",
       "      <td>1</td>\n",
       "      <td>3</td>\n",
       "      <td>2</td>\n",
       "    </tr>\n",
       "    <tr>\n",
       "      <td>3</td>\n",
       "      <td>Simon</td>\n",
       "      <td>3</td>\n",
       "      <td>4</td>\n",
       "      <td>3</td>\n",
       "      <td>3</td>\n",
       "      <td>3</td>\n",
       "      <td>3</td>\n",
       "      <td>3</td>\n",
       "      <td>3</td>\n",
       "      <td>3</td>\n",
       "      <td>...</td>\n",
       "      <td>3</td>\n",
       "      <td>3</td>\n",
       "      <td>3</td>\n",
       "      <td>3</td>\n",
       "      <td>4</td>\n",
       "      <td>4</td>\n",
       "      <td>3</td>\n",
       "      <td>3</td>\n",
       "      <td>3</td>\n",
       "      <td>3</td>\n",
       "    </tr>\n",
       "    <tr>\n",
       "      <td>4</td>\n",
       "      <td>Ting</td>\n",
       "      <td>4</td>\n",
       "      <td>1</td>\n",
       "      <td>1</td>\n",
       "      <td>5</td>\n",
       "      <td>4</td>\n",
       "      <td>4</td>\n",
       "      <td>2</td>\n",
       "      <td>2</td>\n",
       "      <td>4</td>\n",
       "      <td>...</td>\n",
       "      <td>4</td>\n",
       "      <td>4</td>\n",
       "      <td>4</td>\n",
       "      <td>4</td>\n",
       "      <td>2</td>\n",
       "      <td>4</td>\n",
       "      <td>4</td>\n",
       "      <td>5</td>\n",
       "      <td>2</td>\n",
       "      <td>4</td>\n",
       "    </tr>\n",
       "    <tr>\n",
       "      <td>5</td>\n",
       "      <td>Mia</td>\n",
       "      <td>4</td>\n",
       "      <td>2</td>\n",
       "      <td>2</td>\n",
       "      <td>4</td>\n",
       "      <td>3</td>\n",
       "      <td>3</td>\n",
       "      <td>2</td>\n",
       "      <td>3</td>\n",
       "      <td>4</td>\n",
       "      <td>...</td>\n",
       "      <td>3</td>\n",
       "      <td>3</td>\n",
       "      <td>4</td>\n",
       "      <td>4</td>\n",
       "      <td>2</td>\n",
       "      <td>3</td>\n",
       "      <td>4</td>\n",
       "      <td>4</td>\n",
       "      <td>3</td>\n",
       "      <td>4</td>\n",
       "    </tr>\n",
       "    <tr>\n",
       "      <td>6</td>\n",
       "      <td>Marie</td>\n",
       "      <td>2</td>\n",
       "      <td>5</td>\n",
       "      <td>5</td>\n",
       "      <td>1</td>\n",
       "      <td>2</td>\n",
       "      <td>2</td>\n",
       "      <td>4</td>\n",
       "      <td>4</td>\n",
       "      <td>2</td>\n",
       "      <td>...</td>\n",
       "      <td>2</td>\n",
       "      <td>2</td>\n",
       "      <td>2</td>\n",
       "      <td>2</td>\n",
       "      <td>4</td>\n",
       "      <td>2</td>\n",
       "      <td>2</td>\n",
       "      <td>1</td>\n",
       "      <td>4</td>\n",
       "      <td>2</td>\n",
       "    </tr>\n",
       "    <tr>\n",
       "      <td>7</td>\n",
       "      <td>Gaoyue</td>\n",
       "      <td>3</td>\n",
       "      <td>4</td>\n",
       "      <td>3</td>\n",
       "      <td>3</td>\n",
       "      <td>3</td>\n",
       "      <td>3</td>\n",
       "      <td>3</td>\n",
       "      <td>3</td>\n",
       "      <td>2</td>\n",
       "      <td>...</td>\n",
       "      <td>4</td>\n",
       "      <td>4</td>\n",
       "      <td>3</td>\n",
       "      <td>2</td>\n",
       "      <td>4</td>\n",
       "      <td>4</td>\n",
       "      <td>3</td>\n",
       "      <td>2</td>\n",
       "      <td>2</td>\n",
       "      <td>2</td>\n",
       "    </tr>\n",
       "    <tr>\n",
       "      <td>8</td>\n",
       "      <td>Nick</td>\n",
       "      <td>4</td>\n",
       "      <td>1</td>\n",
       "      <td>2</td>\n",
       "      <td>4</td>\n",
       "      <td>3</td>\n",
       "      <td>4</td>\n",
       "      <td>2</td>\n",
       "      <td>2</td>\n",
       "      <td>4</td>\n",
       "      <td>...</td>\n",
       "      <td>3</td>\n",
       "      <td>3</td>\n",
       "      <td>4</td>\n",
       "      <td>4</td>\n",
       "      <td>2</td>\n",
       "      <td>2</td>\n",
       "      <td>4</td>\n",
       "      <td>4</td>\n",
       "      <td>4</td>\n",
       "      <td>4</td>\n",
       "    </tr>\n",
       "    <tr>\n",
       "      <td>9</td>\n",
       "      <td>Ramsey</td>\n",
       "      <td>3</td>\n",
       "      <td>4</td>\n",
       "      <td>3</td>\n",
       "      <td>3</td>\n",
       "      <td>3</td>\n",
       "      <td>3</td>\n",
       "      <td>3</td>\n",
       "      <td>3</td>\n",
       "      <td>2</td>\n",
       "      <td>...</td>\n",
       "      <td>4</td>\n",
       "      <td>4</td>\n",
       "      <td>3</td>\n",
       "      <td>2</td>\n",
       "      <td>4</td>\n",
       "      <td>4</td>\n",
       "      <td>3</td>\n",
       "      <td>3</td>\n",
       "      <td>2</td>\n",
       "      <td>2</td>\n",
       "    </tr>\n",
       "  </tbody>\n",
       "</table>\n",
       "<p>10 rows × 26 columns</p>\n",
       "</div>"
      ],
      "text/plain": [
       "  Unnamed: 0  Harry Potter  Groundhog Day  Life of Brian  Indiana Jones  \\\n",
       "0      Maruf             3              2              3              3   \n",
       "1   Mauricio             2              3              4              3   \n",
       "2      Ricky             2              5              4              2   \n",
       "3      Simon             3              4              3              3   \n",
       "4       Ting             4              1              1              5   \n",
       "5        Mia             4              2              2              4   \n",
       "6      Marie             2              5              5              1   \n",
       "7     Gaoyue             3              4              3              3   \n",
       "8       Nick             4              1              2              4   \n",
       "9     Ramsey             3              4              3              3   \n",
       "\n",
       "   Lawrence of Arabia  Jurassic Park  Rushmore  Grease  The Godfather  ...  \\\n",
       "0                   3              3         3       3              4  ...   \n",
       "1                   2              3         4       3              3  ...   \n",
       "2                   3              2         4       4              1  ...   \n",
       "3                   3              3         3       3              3  ...   \n",
       "4                   4              4         2       2              4  ...   \n",
       "5                   3              3         2       3              4  ...   \n",
       "6                   2              2         4       4              2  ...   \n",
       "7                   3              3         3       3              2  ...   \n",
       "8                   3              4         2       2              4  ...   \n",
       "9                   3              3         3       3              2  ...   \n",
       "\n",
       "   Titanic  The English Patient  Avatar  Star Wars  Gone with the Wind  \\\n",
       "0        2                    2       3          4                   2   \n",
       "1        1                    1       3          3                   2   \n",
       "2        3                    3       2          2                   4   \n",
       "3        3                    3       3          3                   4   \n",
       "4        4                    4       4          4                   2   \n",
       "5        3                    3       4          4                   2   \n",
       "6        2                    2       2          2                   4   \n",
       "7        4                    4       3          2                   4   \n",
       "8        3                    3       4          4                   2   \n",
       "9        4                    4       3          2                   4   \n",
       "\n",
       "   Casablanca  Jaws  Top Gun  Toy Story  Lord of the Rings  \n",
       "0           2     3        3          4                  4  \n",
       "1           1     3        3          4                  3  \n",
       "2           3     2        1          3                  2  \n",
       "3           4     3        3          3                  3  \n",
       "4           4     4        5          2                  4  \n",
       "5           3     4        4          3                  4  \n",
       "6           2     2        1          4                  2  \n",
       "7           4     3        2          2                  2  \n",
       "8           2     4        4          4                  4  \n",
       "9           4     3        3          2                  2  \n",
       "\n",
       "[10 rows x 26 columns]"
      ]
     },
     "execution_count": 1,
     "metadata": {},
     "output_type": "execute_result"
    }
   ],
   "source": [
    "import pandas as pd\n",
    "import numpy as np\n",
    "import matplotlib.pyplot as plt\n",
    "%matplotlib inline\n",
    "student_data = pd.read_csv(\"data_TAs.csv\")\n",
    "student_data"
   ]
  },
  {
   "cell_type": "markdown",
   "metadata": {},
   "source": [
    "## Question A\n",
    "Below, the ratings matrix is being stored in the variable ```ratings```. \n",
    "1. Calculate the mean of the rows $u$ and subtract it from each row of the matrix.\n",
    "2. Compute the SVD of the resulting matrix using ```np.linalg.svd``` and plot the singular values.\n",
    "\n",
    "***Please look at the documentation of np.linalg.svd to understand its return values.***"
   ]
  },
  {
   "cell_type": "code",
   "execution_count": 2,
   "metadata": {},
   "outputs": [
    {
     "name": "stdout",
     "output_type": "stream",
     "text": [
      "[['Maruf' 3 2 3 3 3 3 3 3 4 3 4 4 3 4 3 2 2 3 4 2 2 3 3 4 4]\n",
      " ['Mauricio' 2 3 4 3 2 3 4 3 3 4 5 3 4 3 3 1 1 3 3 2 1 3 3 4 3]\n",
      " ['Ricky' 2 5 4 2 3 2 4 4 1 4 3 1 4 2 2 3 3 2 2 4 3 2 1 3 2]\n",
      " ['Simon' 3 4 3 3 3 3 3 3 3 3 3 2 3 3 3 3 3 3 3 4 4 3 3 3 3]\n",
      " ['Ting' 4 1 1 5 4 4 2 2 4 1 1 4 1 4 4 4 4 4 4 2 4 4 5 2 4]\n",
      " ['Mia' 4 2 2 4 3 3 2 3 4 2 2 4 2 4 4 3 3 4 4 2 3 4 4 3 4]\n",
      " ['Marie' 2 5 5 1 2 2 4 4 2 5 5 2 5 2 2 2 2 2 2 4 2 2 1 4 2]\n",
      " ['Gaoyue' 3 4 3 3 3 3 3 3 2 3 3 2 3 2 3 4 4 3 2 4 4 3 2 2 2]\n",
      " ['Nick' 4 1 2 4 3 4 2 2 4 2 3 5 3 4 4 3 3 4 4 2 2 4 4 4 4]\n",
      " ['Ramsey' 3 4 3 3 3 3 3 3 2 3 2 2 3 2 3 4 4 3 2 4 4 3 3 2 2]]\n"
     ]
    }
   ],
   "source": [
    "ratings = np.array(student_data.values)\n",
    "print(ratings)"
   ]
  },
  {
   "cell_type": "code",
   "execution_count": 3,
   "metadata": {},
   "outputs": [
    {
     "data": {
      "image/png": "[encoded data removed]",
      "text/plain": [
       "<Figure size 432x288 with 1 Axes>"
      ]
     },
     "metadata": {
      "needs_background": "light"
     },
     "output_type": "display_data"
    }
   ],
   "source": [
    "# YOUR WORK FOR QUESTION A HERE\n",
    "r8s_no_name = ratings[:, 1:].T\n",
    "means = [np.mean(i) for i in r8s_no_name]\n",
    "r8s_no_name = np.array([r8s_no_name[i] - means[i] for i in range(r8s_no_name.shape[0])], dtype='float').T\n",
    "ratings_U, ratings_S, ratings_V = np.linalg.svd(r8s_no_name)\n",
    "\n",
    "plt.plot(ratings_S)\n",
    "plt.title('Singular Values of Ratings')\n",
    "plt.xlabel('Index')\n",
    "plt.ylabel('Magnitude')\n",
    "plt.show()"
   ]
  },
  {
   "cell_type": "markdown",
   "metadata": {},
   "source": [
    "# Question B\n",
    "\n",
    "- It seems like 3 singular values contribute most of the information in the data set. \n",
    "- Truncate the SVD to build a rank 3 model of the data. That is, find ```(U_truncated, S_truncated, VT_truncated)``` of dimensions ```((10, 3), (3, 3), (3, 25))``` respectively such that ```U_truncated.dot(S_truncated.dot(VT_truncated))``` is a good approximation to the data matrix. ***Hint.*** You might need ```np.linalg.diag``` on the singular values given the output of ```np.linalg.svd```. **Look at the documentation.**\n",
    "- What is the percentage error between the true ratings and the low rank model? the percentage error is defined as:  ```np.linalg.norm(ratings - ratings_approx)/np.linalg.norm(ratings) * 100```\n"
   ]
  },
  {
   "cell_type": "code",
   "execution_count": 4,
   "metadata": {},
   "outputs": [
    {
     "name": "stdout",
     "output_type": "stream",
     "text": [
      "20.775200005168827\n"
     ]
    }
   ],
   "source": [
    "r = 3# rank of truncated SVD\n",
    "\n",
    "\n",
    "U_truncated = ratings_U[:, :r]\n",
    "S_truncated = np.diag(ratings_S[:r])\n",
    "VT_truncated = ratings_V[:r]\n",
    "ratings_approx = U_truncated.dot(S_truncated.dot(VT_truncated))\n",
    "\n",
    "\n",
    "print(np.linalg.norm(r8s_no_name - ratings_approx) / np.linalg.norm(r8s_no_name) * 100)"
   ]
  },
  {
   "cell_type": "markdown",
   "metadata": {},
   "source": [
    "We will now load the professor's ratings."
   ]
  },
  {
   "cell_type": "code",
   "execution_count": 5,
   "metadata": {},
   "outputs": [
    {
     "name": "stdout",
     "output_type": "stream",
     "text": [
      "ratings_arcak = {'The Godfather': 3.498, 'Jaws': 3.0, 'Grease': 2.253, 'Toy Story': 3.249, '2001: A Space Odyssey': 3.0}\n",
      "ratings_sanders = {'Rushmore': 3.747, 'Spinal Tap': 3.996, 'Groundhog Day': 3.0, 'Jaws': 2.751}\n"
     ]
    }
   ],
   "source": [
    "import json \n",
    "with open('data_arcak.json') as data_file:    \n",
    "    ratings_arcak = json.load(data_file)\n",
    "with open('data_sanders.json') as data_file:    \n",
    "    ratings_sanders = json.load(data_file)\n",
    "\n",
    "print(\"ratings_arcak =\", ratings_arcak)\n",
    "print(\"ratings_sanders =\", ratings_sanders)"
   ]
  },
  {
   "cell_type": "markdown",
   "metadata": {},
   "source": [
    "Since the professors have each only seen a small number of movies, we will need to estimate their preferences based on only those movies. Recall the we have abstracted our movie ratings in vector form. For example, Maruf's ratings in vectors form is, \n",
    "\n",
    "$$\\begin{bmatrix} \n",
    "    \\text{Harry Potter} \\\\ \\text{Groundhog day} \\\\ \\vdots \\\\ \\text{Lord of the rings}\n",
    "\\end{bmatrix} = \\begin{bmatrix} \n",
    "    3 \\\\ 2 \\\\ \\vdots \\\\ 4\n",
    "\\end{bmatrix}$$"
   ]
  },
  {
   "cell_type": "markdown",
   "metadata": {},
   "source": [
    "# Question C\n",
    "\n",
    "1. Construct the vector representations of the Professors' ratings by setting the unknown movie ratings to the corresponding entries from the mean of the rows $u$. \n",
    "2. Subtract the mean $u$ from the resulting vector.\n",
    "\n",
    "***Hint.*** Use ```list(student_data.columns).index()``` to determine the appropriate indexes."
   ]
  },
  {
   "cell_type": "code",
   "execution_count": 6,
   "metadata": {},
   "outputs": [],
   "source": [
    "# YOUR WORK FOR QUESTION C HERE\n",
    "prof_arcak = np.array([\n",
    "    ratings_arcak[i] - means[list(student_data.columns)[1:].index(i)]\n",
    "    if i in ratings_arcak else 0\n",
    "    for i in list(student_data.columns)[1:]\n",
    "])\n",
    "prof_sanders = np.array([\n",
    "    ratings_sanders[i] - means[list(student_data.columns)[1:].index(i)]\n",
    "    if i in ratings_sanders else 0\n",
    "    for i in list(student_data.columns)[1:]\n",
    "])"
   ]
  },
  {
   "cell_type": "markdown",
   "metadata": {},
   "source": [
    "### Some notes.\n",
    "- $V$ forms a basis for the rows of our ratings matrix and represents the \"principal directions\" of user reviews. \n",
    "- It is a model assumption that, if you like a certain group of movies, those movies will share similar characteristics. Sci-fi and action films, for example, have more in common than rom-coms usually, and we try and exploit that. \n",
    "- If we have two right singular vectors $v_1$ and $v_2$, $v_1$ could represent that principal \"action\" direction and $v_2$ could represent the principal \"rom-com\" direction. For example, dominantly action film will be something like $10 v_1 + 02 v_2$ and a dominantly rom-com film will have something like $0.1 v_1 + 5 v_2$. A movie that is a rom-com action film would be some weighted somewhat evenly, like $2 v_1 + 2 v_2$. \n",
    "- Since we have a way of defining the characteristics of a film in terms of the basis vectors in $V$, we can try to guess the remaining ratings for the Professors by projecting their ratings onto $V$. For example, if the projection onto $v_1$ is higher than $v_2$, it suggests that the person would like action films more that rom-coms. We will use this idea to guess the ratings. "
   ]
  },
  {
   "cell_type": "markdown",
   "metadata": {},
   "source": [
    "# Question D\n",
    "\n",
    "We have $3$ principal components $(v_1, v_2, v_3)$ with ```VT_truncated``` being,\n",
    "$$\\begin{bmatrix} | & | & | \\\\ v_1 & v_2 & v_3\\\\ | & | & | \\end{bmatrix}^T$$\n",
    "Construct ```proj_arcak``` and ```proj_sanders``` by calculating the representations of ```prof_arcak``` and ```prof_sanders``` in terms of $(v_1, v_2, v_3)$. That is to say, if $x$ is ```prof_arcak```,\n",
    "$$\\text{prof_arcak} = \\langle x , v_1 \\rangle v_1 +  \\langle x , v_2 \\rangle v_2 +  \\langle x , v_3 \\rangle v_3$$\n",
    "***Hint.*** Remember orthonormal projections."
   ]
  },
  {
   "cell_type": "code",
   "execution_count": 7,
   "metadata": {},
   "outputs": [
    {
     "name": "stdout",
     "output_type": "stream",
     "text": [
      "[[-0.18228518  0.34391486  0.26545868 -0.25400537 -0.09462681 -0.14449774\n",
      "   0.18228518  0.14449774 -0.22804529  0.26545868  0.20084336 -0.26074136\n",
      "   0.2367851  -0.19539462 -0.17083186 -0.08151736 -0.08151736 -0.17083186\n",
      "  -0.19539462  0.18796381 -0.04882129 -0.17083186 -0.29647441  0.04139048\n",
      "  -0.19539462]\n",
      " [ 0.0647582   0.18087275 -0.12487421  0.05602693  0.12896329  0.00067537\n",
      "  -0.0647582  -0.00067537 -0.18713203 -0.12487421 -0.35987099 -0.24098876\n",
      "  -0.15795839 -0.16077557 -0.00408908  0.35449706  0.35449706 -0.00408908\n",
      "  -0.16077557  0.25039539  0.40835379 -0.00408908 -0.02030716 -0.31873397\n",
      "  -0.16077557]\n",
      " [ 0.13314062 -0.14488673  0.02862675  0.00224512 -0.19263924  0.28945152\n",
      "  -0.13314062 -0.28945152 -0.11671772  0.02862675  0.24000325  0.3066541\n",
      "   0.31432207 -0.28224129  0.16401249  0.22274267  0.22274267  0.16401249\n",
      "  -0.28224129  0.11369292 -0.20062915  0.16401249 -0.00777084  0.03208077\n",
      "  -0.28224129]]\n"
     ]
    }
   ],
   "source": [
    "# YOUR WORK FOR QUESTION D HERE\n",
    "proj_arcak = VT_truncated.T.dot(VT_truncated).dot(prof_arcak)\n",
    "proj_sanders = VT_truncated.T.dot(VT_truncated).dot(prof_sanders)\n",
    "print(VT_truncated)"
   ]
  },
  {
   "cell_type": "markdown",
   "metadata": {},
   "source": [
    "# Question E\n",
    "\n",
    "We're almost there! We now simply need to account for the mean $u$. Define ```pred_arcak``` and ```pred_sanders``` as,\n",
    "$$\\text{pred_arcak} = \\text{proj_arcak} + u \\text{ and } \\text{pred_sanders} = \\text{proj_sanders} + u$$\n",
    "This effectively adds the bias back. "
   ]
  },
  {
   "cell_type": "code",
   "execution_count": 8,
   "metadata": {},
   "outputs": [
    {
     "name": "stdout",
     "output_type": "stream",
     "text": [
      "[2.89498101 3.22865043 3.13342797 2.98097909 2.85718396 2.90543666\n",
      " 3.10501899 3.09456334 2.8516148  3.13342797 3.22639326 2.79975855\n",
      " 3.19500315 2.97934434 3.00938807 2.77282063 2.77282063 3.00938807\n",
      " 2.97934434 3.01968004 2.82467688 3.00938807 2.77849323 3.17434749\n",
      " 2.97934434]\n"
     ]
    }
   ],
   "source": [
    "# YOUR WORK FOR PART E HERE\n",
    "pred_arcak = proj_arcak + means\n",
    "pred_sanders = proj_sanders + means\n",
    "print(pred_sanders)"
   ]
  },
  {
   "cell_type": "markdown",
   "metadata": {},
   "source": [
    "# Question F\n",
    "\n",
    "Find the movie corresponding the largest entry of ```pred_arcak``` and ```pred_sanders```. This is your first guess at a movie recommendation! "
   ]
  },
  {
   "cell_type": "code",
   "execution_count": 9,
   "metadata": {},
   "outputs": [
    {
     "name": "stdout",
     "output_type": "stream",
     "text": [
      "Spiderman\n",
      "Groundhog Day\n"
     ]
    }
   ],
   "source": [
    "# YOUR WORK FOR QUESTION F HERE\n",
    "print(list(student_data.columns)[1:][np.argmax(pred_arcak)])\n",
    "print(list(student_data.columns)[1:][np.argmax(pred_sanders)])"
   ]
  },
  {
   "cell_type": "markdown",
   "metadata": {},
   "source": [
    "# Question G\n",
    "Professor Sanders has already seen his recommendation. What's the next best movie you can recommend?"
   ]
  },
  {
   "cell_type": "code",
   "execution_count": 10,
   "metadata": {},
   "outputs": [
    {
     "name": "stdout",
     "output_type": "stream",
     "text": [
      "Freddy Got Fingered\n"
     ]
    }
   ],
   "source": [
    "# YOUR WORK FOR QUESTION G HERE\n",
    "pred_sanders[np.argmax(pred_sanders)] = 0\n",
    "print(list(student_data.columns)[1:][np.argmax(pred_sanders)])"
   ]
  }
 ],
 "metadata": {
  "anaconda-cloud": {},
  "kernelspec": {
   "display_name": "Python 3",
   "language": "python",
   "name": "python3"
  },
  "language_info": {
   "codemirror_mode": {
    "name": "ipython",
    "version": 3
   },
   "file_extension": ".py",
   "mimetype": "text/x-python",
   "name": "python",
   "nbconvert_exporter": "python",
   "pygments_lexer": "ipython3",
   "version": "3.7.4"
  }
 },
 "nbformat": 4,
 "nbformat_minor": 2
}
